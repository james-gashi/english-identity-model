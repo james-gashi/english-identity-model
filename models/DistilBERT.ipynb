{
 "cells": [
  {
   "cell_type": "markdown",
   "id": "be8c72b7-a38f-4b72-ae04-24c9910347da",
   "metadata": {
    "papermill": {
     "duration": 0.016018,
     "end_time": "2025-04-25T00:54:46.396427",
     "exception": false,
     "start_time": "2025-04-25T00:54:46.380409",
     "status": "completed"
    },
    "tags": []
   },
   "source": [
    "# BERT and HuggingFace"
   ]
  },
  {
   "cell_type": "code",
   "execution_count": 1,
   "id": "d2d4625c-07ec-40b8-b6c4-eb08983f79d5",
   "metadata": {
    "execution": {
     "iopub.execute_input": "2025-04-25T00:54:46.423588Z",
     "iopub.status.busy": "2025-04-25T00:54:46.423330Z",
     "iopub.status.idle": "2025-04-25T00:56:32.998449Z",
     "shell.execute_reply": "2025-04-25T00:56:32.998008Z"
    },
    "papermill": {
     "duration": 106.589198,
     "end_time": "2025-04-25T00:56:32.999463",
     "exception": false,
     "start_time": "2025-04-25T00:54:46.410265",
     "status": "completed"
    },
    "tags": []
   },
   "outputs": [
    {
     "name": "stderr",
     "output_type": "stream",
     "text": [
      "2025-04-24 18:55:49.798267: E external/local_xla/xla/stream_executor/cuda/cuda_fft.cc:467] Unable to register cuFFT factory: Attempting to register factory for plugin cuFFT when one has already been registered\n",
      "WARNING: All log messages before absl::InitializeLog() is called are written to STDERR\n",
      "E0000 00:00:1745542550.289768 1271485 cuda_dnn.cc:8579] Unable to register cuDNN factory: Attempting to register factory for plugin cuDNN when one has already been registered\n",
      "E0000 00:00:1745542550.433347 1271485 cuda_blas.cc:1407] Unable to register cuBLAS factory: Attempting to register factory for plugin cuBLAS when one has already been registered\n",
      "W0000 00:00:1745542551.747253 1271485 computation_placer.cc:177] computation placer already registered. Please check linkage and avoid linking the same target more than once.\n",
      "W0000 00:00:1745542551.747276 1271485 computation_placer.cc:177] computation placer already registered. Please check linkage and avoid linking the same target more than once.\n",
      "W0000 00:00:1745542551.747279 1271485 computation_placer.cc:177] computation placer already registered. Please check linkage and avoid linking the same target more than once.\n",
      "W0000 00:00:1745542551.747282 1271485 computation_placer.cc:177] computation placer already registered. Please check linkage and avoid linking the same target more than once.\n",
      "2025-04-24 18:55:51.874165: I tensorflow/core/platform/cpu_feature_guard.cc:210] This TensorFlow binary is optimized to use available CPU instructions in performance-critical operations.\n",
      "To enable the following instructions: AVX2 FMA, in other operations, rebuild TensorFlow with the appropriate compiler flags.\n"
     ]
    }
   ],
   "source": [
    "import pandas as pd\n",
    "import matplotlib.pyplot as plt\n",
    "import pandas as pd\n",
    "import seaborn as sns\n",
    "from sklearn.model_selection import train_test_split\n",
    "from sklearn.preprocessing import LabelEncoder\n",
    "from datasets import Dataset\n",
    "from transformers import (\n",
    "    DistilBertTokenizerFast,\n",
    "    DistilBertForSequenceClassification,\n",
    "    Trainer,\n",
    "    TrainingArguments,\n",
    "    DataCollatorWithPadding,\n",
    "    EvalPrediction\n",
    ")\n",
    "import numpy as np\n",
    "from sklearn.metrics import accuracy_score, classification_report\n",
    "from sklearn.metrics import confusion_matrix, ConfusionMatrixDisplay"
   ]
  },
  {
   "cell_type": "code",
   "execution_count": null,
   "id": "0fa8f51b-5e00-4c79-a98c-69f7c1872a8d",
   "metadata": {
    "execution": {
     "iopub.execute_input": "2025-04-25T00:56:33.038416Z",
     "iopub.status.busy": "2025-04-25T00:56:33.037752Z",
     "iopub.status.idle": "2025-04-25T00:56:33.240349Z",
     "shell.execute_reply": "2025-04-25T00:56:33.240001Z"
    },
    "papermill": {
     "duration": 0.227064,
     "end_time": "2025-04-25T00:56:33.241005",
     "exception": false,
     "start_time": "2025-04-25T00:56:33.013941",
     "status": "completed"
    },
    "tags": []
   },
   "outputs": [
    {
     "data": {
      "text/html": [
       "<div>\n",
       "<style scoped>\n",
       "    .dataframe tbody tr th:only-of-type {\n",
       "        vertical-align: middle;\n",
       "    }\n",
       "\n",
       "    .dataframe tbody tr th {\n",
       "        vertical-align: top;\n",
       "    }\n",
       "\n",
       "    .dataframe thead th {\n",
       "        text-align: right;\n",
       "    }\n",
       "</style>\n",
       "<table border=\"1\" class=\"dataframe\">\n",
       "  <thead>\n",
       "    <tr style=\"text-align: right;\">\n",
       "      <th></th>\n",
       "      <th>text</th>\n",
       "      <th>text_number</th>\n",
       "      <th>label</th>\n",
       "      <th>label_id</th>\n",
       "    </tr>\n",
       "  </thead>\n",
       "  <tbody>\n",
       "    <tr>\n",
       "      <th>0</th>\n",
       "      <td>seen that my intention was, to shew them that ...</td>\n",
       "      <td>15469</td>\n",
       "      <td>1700s</td>\n",
       "      <td>3</td>\n",
       "    </tr>\n",
       "    <tr>\n",
       "      <th>1</th>\n",
       "      <td>the spectacle. Mrs. Charmond did not see them,...</td>\n",
       "      <td>482</td>\n",
       "      <td>1800s</td>\n",
       "      <td>4</td>\n",
       "    </tr>\n",
       "    <tr>\n",
       "      <th>2</th>\n",
       "      <td>King and the ladies of the Court rode out to t...</td>\n",
       "      <td>467</td>\n",
       "      <td>1600s</td>\n",
       "      <td>2</td>\n",
       "    </tr>\n",
       "    <tr>\n",
       "      <th>3</th>\n",
       "      <td>assembly, he had published a letter, in which ...</td>\n",
       "      <td>1346</td>\n",
       "      <td>1800s</td>\n",
       "      <td>4</td>\n",
       "    </tr>\n",
       "    <tr>\n",
       "      <th>4</th>\n",
       "      <td>some moan. '\"Lo, all these trophies of affecti...</td>\n",
       "      <td>1137</td>\n",
       "      <td>1500s</td>\n",
       "      <td>1</td>\n",
       "    </tr>\n",
       "  </tbody>\n",
       "</table>\n",
       "</div>"
      ],
      "text/plain": [
       "                                                text  text_number  label  \\\n",
       "0  seen that my intention was, to shew them that ...        15469  1700s   \n",
       "1  the spectacle. Mrs. Charmond did not see them,...          482  1800s   \n",
       "2  King and the ladies of the Court rode out to t...          467  1600s   \n",
       "3  assembly, he had published a letter, in which ...         1346  1800s   \n",
       "4  some moan. '\"Lo, all these trophies of affecti...         1137  1500s   \n",
       "\n",
       "   label_id  \n",
       "0         3  \n",
       "1         4  \n",
       "2         2  \n",
       "3         4  \n",
       "4         1  "
      ]
     },
     "execution_count": 2,
     "metadata": {},
     "output_type": "execute_result"
    }
   ],
   "source": [
    "df = pd.read_csv(\"uniform_excerpts_2.csv\")\n",
    "\n",
    "# encode the era labels\n",
    "label_encoder = LabelEncoder()\n",
    "df[\"label_id\"] = label_encoder.fit_transform(df[\"label\"])\n",
    "df.head()"
   ]
  },
  {
   "cell_type": "code",
   "execution_count": 3,
   "id": "6bd93059-ca1b-49ad-b54e-723d93f75ef5",
   "metadata": {
    "execution": {
     "iopub.execute_input": "2025-04-25T00:56:33.301023Z",
     "iopub.status.busy": "2025-04-25T00:56:33.300633Z",
     "iopub.status.idle": "2025-04-25T00:56:33.303674Z",
     "shell.execute_reply": "2025-04-25T00:56:33.303349Z"
    },
    "papermill": {
     "duration": 0.038079,
     "end_time": "2025-04-25T00:56:33.304252",
     "exception": false,
     "start_time": "2025-04-25T00:56:33.266173",
     "status": "completed"
    },
    "tags": []
   },
   "outputs": [
    {
     "data": {
      "text/plain": [
       "(5949, 4)"
      ]
     },
     "execution_count": 3,
     "metadata": {},
     "output_type": "execute_result"
    }
   ],
   "source": [
    "df.shape"
   ]
  },
  {
   "cell_type": "code",
   "execution_count": null,
   "id": "e5173be7-2163-45cb-8cc8-4d03b50edd49",
   "metadata": {
    "execution": {
     "iopub.execute_input": "2025-04-25T00:56:33.327741Z",
     "iopub.status.busy": "2025-04-25T00:56:33.327467Z",
     "iopub.status.idle": "2025-04-25T00:56:33.360214Z",
     "shell.execute_reply": "2025-04-25T00:56:33.359867Z"
    },
    "papermill": {
     "duration": 0.043697,
     "end_time": "2025-04-25T00:56:33.360925",
     "exception": false,
     "start_time": "2025-04-25T00:56:33.317228",
     "status": "completed"
    },
    "tags": []
   },
   "outputs": [],
   "source": [
    "# train/val/test split\n",
    "# 80/10/10\n",
    "train_df, val_test_df = train_test_split(df, test_size=0.2, stratify=df[\"label_id\"], random_state=42)\n",
    "val_df, test_df = train_test_split(val_test_df, test_size=0.5, stratify=val_test_df[\"label_id\"], random_state=42)"
   ]
  },
  {
   "cell_type": "code",
   "execution_count": 5,
   "id": "7a1f538d-1b79-4f99-b7e2-24ec45cb77dd",
   "metadata": {
    "execution": {
     "iopub.execute_input": "2025-04-25T00:56:33.387255Z",
     "iopub.status.busy": "2025-04-25T00:56:33.386976Z",
     "iopub.status.idle": "2025-04-25T00:56:33.389818Z",
     "shell.execute_reply": "2025-04-25T00:56:33.389507Z"
    },
    "papermill": {
     "duration": 0.01814,
     "end_time": "2025-04-25T00:56:33.390418",
     "exception": false,
     "start_time": "2025-04-25T00:56:33.372278",
     "status": "completed"
    },
    "tags": []
   },
   "outputs": [
    {
     "data": {
      "text/plain": [
       "(4759, 4)"
      ]
     },
     "execution_count": 5,
     "metadata": {},
     "output_type": "execute_result"
    }
   ],
   "source": [
    "train_df.shape"
   ]
  },
  {
   "cell_type": "code",
   "execution_count": 6,
   "id": "c86436e2-53cb-4f2b-8bde-42674a806a02",
   "metadata": {
    "execution": {
     "iopub.execute_input": "2025-04-25T00:56:33.416460Z",
     "iopub.status.busy": "2025-04-25T00:56:33.416205Z",
     "iopub.status.idle": "2025-04-25T00:56:33.419042Z",
     "shell.execute_reply": "2025-04-25T00:56:33.418727Z"
    },
    "papermill": {
     "duration": 0.01743,
     "end_time": "2025-04-25T00:56:33.419633",
     "exception": false,
     "start_time": "2025-04-25T00:56:33.402203",
     "status": "completed"
    },
    "tags": []
   },
   "outputs": [
    {
     "data": {
      "text/plain": [
       "(595, 4)"
      ]
     },
     "execution_count": 6,
     "metadata": {},
     "output_type": "execute_result"
    }
   ],
   "source": [
    "val_df.shape"
   ]
  },
  {
   "cell_type": "code",
   "execution_count": 7,
   "id": "6b921b78-8bef-489f-8c5b-0d35202b7b7a",
   "metadata": {
    "execution": {
     "iopub.execute_input": "2025-04-25T00:56:33.448788Z",
     "iopub.status.busy": "2025-04-25T00:56:33.448546Z",
     "iopub.status.idle": "2025-04-25T00:56:33.451881Z",
     "shell.execute_reply": "2025-04-25T00:56:33.451574Z"
    },
    "papermill": {
     "duration": 0.019936,
     "end_time": "2025-04-25T00:56:33.452479",
     "exception": false,
     "start_time": "2025-04-25T00:56:33.432543",
     "status": "completed"
    },
    "tags": []
   },
   "outputs": [
    {
     "data": {
      "text/plain": [
       "(595, 4)"
      ]
     },
     "execution_count": 7,
     "metadata": {},
     "output_type": "execute_result"
    }
   ],
   "source": [
    "test_df.shape"
   ]
  },
  {
   "cell_type": "code",
   "execution_count": null,
   "id": "f21429a7-f3a4-4952-a7ea-ddf30e6b29a2",
   "metadata": {
    "execution": {
     "iopub.execute_input": "2025-04-25T00:56:33.479485Z",
     "iopub.status.busy": "2025-04-25T00:56:33.479247Z",
     "iopub.status.idle": "2025-04-25T00:56:33.513486Z",
     "shell.execute_reply": "2025-04-25T00:56:33.513100Z"
    },
    "papermill": {
     "duration": 0.050058,
     "end_time": "2025-04-25T00:56:33.514366",
     "exception": false,
     "start_time": "2025-04-25T00:56:33.464308",
     "status": "completed"
    },
    "tags": []
   },
   "outputs": [],
   "source": [
    "train_dataset = Dataset.from_pandas(train_df[[\"text\", \"label_id\"]].rename(columns={\"label_id\": \"labels\"}))\n",
    "val_dataset = Dataset.from_pandas(val_df[[\"text\", \"label_id\"]].rename(columns={\"label_id\": \"labels\"}))\n",
    "test_dataset = Dataset.from_pandas(test_df[[\"text\", \"label_id\"]].rename(columns={\"label_id\": \"labels\"}))"
   ]
  },
  {
   "cell_type": "code",
   "execution_count": 9,
   "id": "bb3f48b7-b218-46ed-8821-5e63ee3a6734",
   "metadata": {
    "execution": {
     "iopub.execute_input": "2025-04-25T00:56:33.572734Z",
     "iopub.status.busy": "2025-04-25T00:56:33.572441Z",
     "iopub.status.idle": "2025-04-25T00:56:33.588253Z",
     "shell.execute_reply": "2025-04-25T00:56:33.587906Z"
    },
    "papermill": {
     "duration": 0.041175,
     "end_time": "2025-04-25T00:56:33.588842",
     "exception": false,
     "start_time": "2025-04-25T00:56:33.547667",
     "status": "completed"
    },
    "tags": []
   },
   "outputs": [],
   "source": [
    "def tokenize_dataset(model_name, train_df, val_df, test_df):\n",
    "    tokenizer = DistilBertTokenizerFast.from_pretrained(model_name)\n",
    "\n",
    "    def tokenize_function(examples):\n",
    "        return tokenizer(\n",
    "            examples[\"text\"], truncation=True, padding=\"max_length\", max_length=256\n",
    "        )\n",
    "\n",
    "    def prepare(dataset):\n",
    "        dataset = Dataset.from_pandas(dataset[[\"text\", \"label_id\"]].rename(columns={\"label_id\": \"labels\"}))\n",
    "        dataset = dataset.map(tokenize_function, batched=True)\n",
    "        dataset.set_format(\"torch\", columns=[\"input_ids\", \"attention_mask\", \"labels\"])\n",
    "        return dataset\n",
    "\n",
    "    return tokenizer, prepare(train_df), prepare(val_df), prepare(test_df)"
   ]
  },
  {
   "cell_type": "code",
   "execution_count": 10,
   "id": "34d088e4-9a18-4076-8d69-5c6833564523",
   "metadata": {
    "execution": {
     "iopub.execute_input": "2025-04-25T00:56:33.619209Z",
     "iopub.status.busy": "2025-04-25T00:56:33.618928Z",
     "iopub.status.idle": "2025-04-25T00:56:33.627879Z",
     "shell.execute_reply": "2025-04-25T00:56:33.627551Z"
    },
    "papermill": {
     "duration": 0.022037,
     "end_time": "2025-04-25T00:56:33.628491",
     "exception": false,
     "start_time": "2025-04-25T00:56:33.606454",
     "status": "completed"
    },
    "tags": []
   },
   "outputs": [],
   "source": [
    "def train_model(model_name, label_encoder, train_dataset, val_dataset, tokenizer):\n",
    "    model = DistilBertForSequenceClassification.from_pretrained(\n",
    "        model_name, num_labels=len(label_encoder.classes_)\n",
    "    )\n",
    "\n",
    "    training_args = TrainingArguments(\n",
    "        output_dir=\"./era_model\",\n",
    "        evaluation_strategy=\"epoch\",\n",
    "        save_strategy=\"epoch\",\n",
    "        logging_strategy=\"epoch\",\n",
    "        logging_dir=\"./logs\",\n",
    "        report_to=\"none\",\n",
    "        learning_rate=1e-4,\n",
    "        per_device_train_batch_size=16,\n",
    "        per_device_eval_batch_size=16,\n",
    "        num_train_epochs=6,\n",
    "        weight_decay=0.01,\n",
    "        load_best_model_at_end=True,\n",
    "        metric_for_best_model=\"accuracy\"\n",
    "    )\n",
    "\n",
    "    def compute_metrics(p: EvalPrediction):\n",
    "        preds = np.argmax(p.predictions, axis=1)\n",
    "        return {\"accuracy\": accuracy_score(p.label_ids, preds)}\n",
    "\n",
    "    trainer = Trainer(\n",
    "        model=model,\n",
    "        args=training_args,\n",
    "        train_dataset=train_dataset,\n",
    "        eval_dataset=val_dataset,\n",
    "        tokenizer=tokenizer,\n",
    "        data_collator=DataCollatorWithPadding(tokenizer),\n",
    "        compute_metrics=compute_metrics\n",
    "    )\n",
    "\n",
    "    trainer.train()\n",
    "    return trainer"
   ]
  },
  {
   "cell_type": "code",
   "execution_count": 11,
   "id": "627900e8-1100-4f73-8e12-b82b012233f1",
   "metadata": {
    "execution": {
     "iopub.execute_input": "2025-04-25T00:56:33.652682Z",
     "iopub.status.busy": "2025-04-25T00:56:33.652370Z",
     "iopub.status.idle": "2025-04-25T00:56:33.654467Z",
     "shell.execute_reply": "2025-04-25T00:56:33.654143Z"
    },
    "papermill": {
     "duration": 0.014737,
     "end_time": "2025-04-25T00:56:33.655033",
     "exception": false,
     "start_time": "2025-04-25T00:56:33.640296",
     "status": "completed"
    },
    "tags": []
   },
   "outputs": [],
   "source": [
    "model_name = 'distilbert-base-uncased'"
   ]
  },
  {
   "cell_type": "code",
   "execution_count": 12,
   "id": "53e294b6-45a0-4e8c-900e-729ede38de35",
   "metadata": {
    "execution": {
     "iopub.execute_input": "2025-04-25T00:56:33.677323Z",
     "iopub.status.busy": "2025-04-25T00:56:33.677068Z",
     "iopub.status.idle": "2025-04-25T00:56:34.875627Z",
     "shell.execute_reply": "2025-04-25T00:56:34.875246Z"
    },
    "papermill": {
     "duration": 1.210181,
     "end_time": "2025-04-25T00:56:34.876267",
     "exception": false,
     "start_time": "2025-04-25T00:56:33.666086",
     "status": "completed"
    },
    "tags": []
   },
   "outputs": [
    {
     "data": {
      "application/vnd.jupyter.widget-view+json": {
       "model_id": "4a71175875634092b8a6d070a6ce8163",
       "version_major": 2,
       "version_minor": 0
      },
      "text/plain": [
       "Map:   0%|          | 0/4759 [00:00<?, ? examples/s]"
      ]
     },
     "metadata": {},
     "output_type": "display_data"
    },
    {
     "data": {
      "application/vnd.jupyter.widget-view+json": {
       "model_id": "9a4b187a8e5841cfbdf76bbe93b0315d",
       "version_major": 2,
       "version_minor": 0
      },
      "text/plain": [
       "Map:   0%|          | 0/595 [00:00<?, ? examples/s]"
      ]
     },
     "metadata": {},
     "output_type": "display_data"
    },
    {
     "data": {
      "application/vnd.jupyter.widget-view+json": {
       "model_id": "26c26dea772c4cc38d92e5013b286c64",
       "version_major": 2,
       "version_minor": 0
      },
      "text/plain": [
       "Map:   0%|          | 0/595 [00:00<?, ? examples/s]"
      ]
     },
     "metadata": {},
     "output_type": "display_data"
    }
   ],
   "source": [
    "tokenizer, train_dataset, val_dataset, test_dataset = tokenize_dataset(model_name, train_df, val_df, test_df)"
   ]
  },
  {
   "cell_type": "code",
   "execution_count": 13,
   "id": "f37eb825-a2b7-4691-bb23-0cb8e06f5280",
   "metadata": {
    "execution": {
     "iopub.execute_input": "2025-04-25T00:56:34.898574Z",
     "iopub.status.busy": "2025-04-25T00:56:34.898221Z",
     "iopub.status.idle": "2025-04-25T02:10:48.764371Z",
     "shell.execute_reply": "2025-04-25T02:10:48.763927Z"
    },
    "papermill": {
     "duration": 4453.877408,
     "end_time": "2025-04-25T02:10:48.765325",
     "exception": false,
     "start_time": "2025-04-25T00:56:34.887917",
     "status": "completed"
    },
    "tags": []
   },
   "outputs": [
    {
     "name": "stderr",
     "output_type": "stream",
     "text": [
      "Some weights of DistilBertForSequenceClassification were not initialized from the model checkpoint at distilbert-base-uncased and are newly initialized: ['classifier.bias', 'classifier.weight', 'pre_classifier.bias', 'pre_classifier.weight']\n",
      "You should probably TRAIN this model on a down-stream task to be able to use it for predictions and inference.\n"
     ]
    },
    {
     "name": "stderr",
     "output_type": "stream",
     "text": [
      "/projects/edki2977/software/anaconda/envs/mynlp/lib/python3.11/site-packages/transformers/training_args.py:1594: FutureWarning: `evaluation_strategy` is deprecated and will be removed in version 4.46 of 🤗 Transformers. Use `eval_strategy` instead\n",
      "  warnings.warn(\n",
      "/scratch/alpine/edki2977/.tmp/ipykernel_1271485/1891494769.py:26: FutureWarning: `tokenizer` is deprecated and will be removed in version 5.0.0 for `Trainer.__init__`. Use `processing_class` instead.\n",
      "  trainer = Trainer(\n",
      "Detected kernel version 4.18.0, which is below the recommended minimum of 5.5.0; this can cause the process to hang. It is recommended to upgrade the kernel to the minimum version or higher.\n"
     ]
    },
    {
     "data": {
      "text/html": [
       "\n",
       "    <div>\n",
       "      \n",
       "      <progress value='1788' max='1788' style='width:300px; height:20px; vertical-align: middle;'></progress>\n",
       "      [1788/1788 1:14:06, Epoch 6/6]\n",
       "    </div>\n",
       "    <table border=\"1\" class=\"dataframe\">\n",
       "  <thead>\n",
       " <tr style=\"text-align: left;\">\n",
       "      <th>Epoch</th>\n",
       "      <th>Training Loss</th>\n",
       "      <th>Validation Loss</th>\n",
       "      <th>Accuracy</th>\n",
       "    </tr>\n",
       "  </thead>\n",
       "  <tbody>\n",
       "    <tr>\n",
       "      <td>1</td>\n",
       "      <td>0.959300</td>\n",
       "      <td>0.786374</td>\n",
       "      <td>0.672269</td>\n",
       "    </tr>\n",
       "    <tr>\n",
       "      <td>2</td>\n",
       "      <td>0.516200</td>\n",
       "      <td>0.738479</td>\n",
       "      <td>0.722689</td>\n",
       "    </tr>\n",
       "    <tr>\n",
       "      <td>3</td>\n",
       "      <td>0.267700</td>\n",
       "      <td>1.000021</td>\n",
       "      <td>0.710924</td>\n",
       "    </tr>\n",
       "    <tr>\n",
       "      <td>4</td>\n",
       "      <td>0.140300</td>\n",
       "      <td>1.127532</td>\n",
       "      <td>0.742857</td>\n",
       "    </tr>\n",
       "    <tr>\n",
       "      <td>5</td>\n",
       "      <td>0.059100</td>\n",
       "      <td>1.230121</td>\n",
       "      <td>0.757983</td>\n",
       "    </tr>\n",
       "    <tr>\n",
       "      <td>6</td>\n",
       "      <td>0.012700</td>\n",
       "      <td>1.394429</td>\n",
       "      <td>0.752941</td>\n",
       "    </tr>\n",
       "  </tbody>\n",
       "</table><p>"
      ],
      "text/plain": [
       "<IPython.core.display.HTML object>"
      ]
     },
     "metadata": {},
     "output_type": "display_data"
    }
   ],
   "source": [
    "trainer = train_model(\n",
    "    model_name=model_name,\n",
    "    label_encoder=label_encoder,\n",
    "    train_dataset=train_dataset,\n",
    "    val_dataset=val_dataset,\n",
    "    tokenizer=tokenizer\n",
    ")"
   ]
  },
  {
   "cell_type": "code",
   "execution_count": 14,
   "id": "3f7efbb1-e97f-4af0-a922-8e44b1f07696",
   "metadata": {
    "execution": {
     "iopub.execute_input": "2025-04-25T02:10:48.794680Z",
     "iopub.status.busy": "2025-04-25T02:10:48.793923Z",
     "iopub.status.idle": "2025-04-25T02:10:48.798022Z",
     "shell.execute_reply": "2025-04-25T02:10:48.797526Z"
    },
    "papermill": {
     "duration": 0.019672,
     "end_time": "2025-04-25T02:10:48.798706",
     "exception": false,
     "start_time": "2025-04-25T02:10:48.779034",
     "status": "completed"
    },
    "tags": []
   },
   "outputs": [],
   "source": [
    "log_history = trainer.state.log_history\n",
    "\n",
    "train_loss = []\n",
    "val_loss = []\n",
    "epochs = []\n",
    "\n",
    "for log in log_history:\n",
    "    if \"loss\" in log and \"epoch\" in log:\n",
    "        train_loss.append(log[\"loss\"])\n",
    "    if \"eval_loss\" in log and \"epoch\" in log:\n",
    "        val_loss.append(log[\"eval_loss\"])\n",
    "    if \"epoch\" in log:\n",
    "        epochs.append(log[\"epoch\"])"
   ]
  },
  {
   "cell_type": "code",
   "execution_count": null,
   "id": "78332a00-b3b5-48cd-8d41-a4050d296b11",
   "metadata": {
    "execution": {
     "iopub.execute_input": "2025-04-25T02:10:48.826303Z",
     "iopub.status.busy": "2025-04-25T02:10:48.825712Z",
     "iopub.status.idle": "2025-04-25T02:10:49.967237Z",
     "shell.execute_reply": "2025-04-25T02:10:49.966856Z"
    },
    "papermill": {
     "duration": 1.154394,
     "end_time": "2025-04-25T02:10:49.967924",
     "exception": false,
     "start_time": "2025-04-25T02:10:48.813530",
     "status": "completed"
    },
    "tags": []
   },
   "outputs": [
    {
     "data": {
      "image/png": "[encoded data removed]",
      "text/plain": [
       "<Figure size 640x480 with 1 Axes>"
      ]
     },
     "metadata": {},
     "output_type": "display_data"
    }
   ],
   "source": [
    "unique_epochs = sorted(set([log[\"epoch\"] for log in log_history if \"epoch\" in log]))\n",
    "\n",
    "train_loss = [log[\"loss\"] for log in log_history if \"loss\" in log and \"epoch\" in log]\n",
    "val_loss = [log[\"eval_loss\"] for log in log_history if \"eval_loss\" in log and \"epoch\" in log]\n",
    "\n",
    "plt.plot(unique_epochs[:len(train_loss)], train_loss, label=\"Training Loss\")\n",
    "plt.plot(unique_epochs[:len(val_loss)], val_loss, label=\"Validation Loss\")\n",
    "\n",
    "plt.xlabel(\"Epoch\")\n",
    "plt.ylabel(\"Loss\")\n",
    "plt.title(\"Training and Validation Loss per Epoch\")\n",
    "\n",
    "plt.legend()\n",
    "plt.grid(True)\n",
    "plt.show()"
   ]
  },
  {
   "cell_type": "code",
   "execution_count": null,
   "id": "e6656bc0-d00b-4f75-bb1b-3747a8248639",
   "metadata": {
    "execution": {
     "iopub.execute_input": "2025-04-25T02:10:50.002116Z",
     "iopub.status.busy": "2025-04-25T02:10:50.001765Z",
     "iopub.status.idle": "2025-04-25T02:11:14.923964Z",
     "shell.execute_reply": "2025-04-25T02:11:14.923605Z"
    },
    "papermill": {
     "duration": 24.943971,
     "end_time": "2025-04-25T02:11:14.926809",
     "exception": false,
     "start_time": "2025-04-25T02:10:49.982838",
     "status": "completed"
    },
    "tags": []
   },
   "outputs": [
    {
     "data": {
      "text/html": [],
      "text/plain": [
       "<IPython.core.display.HTML object>"
      ]
     },
     "metadata": {},
     "output_type": "display_data"
    },
    {
     "name": "stdout",
     "output_type": "stream",
     "text": [
      "Test Results: {'eval_loss': 1.2345798015594482, 'eval_accuracy': 0.761344537815126, 'eval_runtime': 24.9176, 'eval_samples_per_second': 23.879, 'eval_steps_per_second': 1.525, 'epoch': 6.0}\n"
     ]
    }
   ],
   "source": [
    "# eval on test set\n",
    "results = trainer.evaluate(test_dataset)\n",
    "print(\"Test Results:\", results)"
   ]
  },
  {
   "cell_type": "code",
   "execution_count": null,
   "id": "34878fea-b1e9-46e8-938c-b358f937ca69",
   "metadata": {
    "execution": {
     "iopub.execute_input": "2025-04-25T02:11:14.958319Z",
     "iopub.status.busy": "2025-04-25T02:11:14.957905Z",
     "iopub.status.idle": "2025-04-25T02:11:39.673224Z",
     "shell.execute_reply": "2025-04-25T02:11:39.672820Z"
    },
    "papermill": {
     "duration": 24.733862,
     "end_time": "2025-04-25T02:11:39.673858",
     "exception": false,
     "start_time": "2025-04-25T02:11:14.939996",
     "status": "completed"
    },
    "tags": []
   },
   "outputs": [
    {
     "name": "stdout",
     "output_type": "stream",
     "text": [
      "              precision    recall  f1-score   support\n",
      "\n",
      "       1400s       0.90      0.93      0.91        95\n",
      "       1500s       0.91      0.93      0.92       100\n",
      "       1600s       0.71      0.57      0.63       100\n",
      "       1700s       0.52      0.67      0.59       100\n",
      "       1800s       0.69      0.62      0.65       100\n",
      "       1900s       0.90      0.86      0.88       100\n",
      "\n",
      "    accuracy                           0.76       595\n",
      "   macro avg       0.77      0.76      0.76       595\n",
      "weighted avg       0.77      0.76      0.76       595\n",
      "\n"
     ]
    }
   ],
   "source": [
    "# f1, precision, recall\n",
    "predictions = trainer.predict(test_dataset)\n",
    "pred_labels = np.argmax(predictions.predictions, axis=1)\n",
    "true_labels = predictions.label_ids\n",
    "print(classification_report(true_labels, pred_labels, target_names=label_encoder.classes_))"
   ]
  },
  {
   "cell_type": "code",
   "execution_count": 18,
   "id": "cec02968-5863-4015-aaaf-bcdd1e17c1d5",
   "metadata": {
    "execution": {
     "iopub.execute_input": "2025-04-25T02:11:39.840970Z",
     "iopub.status.busy": "2025-04-25T02:11:39.840543Z",
     "iopub.status.idle": "2025-04-25T02:11:39.851857Z",
     "shell.execute_reply": "2025-04-25T02:11:39.851516Z"
    },
    "papermill": {
     "duration": 0.107013,
     "end_time": "2025-04-25T02:11:39.852518",
     "exception": false,
     "start_time": "2025-04-25T02:11:39.745505",
     "status": "completed"
    },
    "tags": []
   },
   "outputs": [
    {
     "data": {
      "text/html": [
       "<div>\n",
       "<style scoped>\n",
       "    .dataframe tbody tr th:only-of-type {\n",
       "        vertical-align: middle;\n",
       "    }\n",
       "\n",
       "    .dataframe tbody tr th {\n",
       "        vertical-align: top;\n",
       "    }\n",
       "\n",
       "    .dataframe thead th {\n",
       "        text-align: right;\n",
       "    }\n",
       "</style>\n",
       "<table border=\"1\" class=\"dataframe\">\n",
       "  <thead>\n",
       "    <tr style=\"text-align: right;\">\n",
       "      <th></th>\n",
       "      <th>loss</th>\n",
       "      <th>grad_norm</th>\n",
       "      <th>learning_rate</th>\n",
       "      <th>epoch</th>\n",
       "      <th>step</th>\n",
       "      <th>eval_loss</th>\n",
       "      <th>eval_accuracy</th>\n",
       "      <th>eval_runtime</th>\n",
       "      <th>eval_samples_per_second</th>\n",
       "      <th>eval_steps_per_second</th>\n",
       "      <th>train_runtime</th>\n",
       "      <th>train_samples_per_second</th>\n",
       "      <th>train_steps_per_second</th>\n",
       "      <th>total_flos</th>\n",
       "      <th>train_loss</th>\n",
       "    </tr>\n",
       "  </thead>\n",
       "  <tbody>\n",
       "    <tr>\n",
       "      <th>0</th>\n",
       "      <td>0.9593</td>\n",
       "      <td>10.514441</td>\n",
       "      <td>0.000083</td>\n",
       "      <td>1.0</td>\n",
       "      <td>298</td>\n",
       "      <td>NaN</td>\n",
       "      <td>NaN</td>\n",
       "      <td>NaN</td>\n",
       "      <td>NaN</td>\n",
       "      <td>NaN</td>\n",
       "      <td>NaN</td>\n",
       "      <td>NaN</td>\n",
       "      <td>NaN</td>\n",
       "      <td>NaN</td>\n",
       "      <td>NaN</td>\n",
       "    </tr>\n",
       "    <tr>\n",
       "      <th>1</th>\n",
       "      <td>NaN</td>\n",
       "      <td>NaN</td>\n",
       "      <td>NaN</td>\n",
       "      <td>1.0</td>\n",
       "      <td>298</td>\n",
       "      <td>0.786374</td>\n",
       "      <td>0.672269</td>\n",
       "      <td>23.7007</td>\n",
       "      <td>25.105</td>\n",
       "      <td>1.603</td>\n",
       "      <td>NaN</td>\n",
       "      <td>NaN</td>\n",
       "      <td>NaN</td>\n",
       "      <td>NaN</td>\n",
       "      <td>NaN</td>\n",
       "    </tr>\n",
       "    <tr>\n",
       "      <th>2</th>\n",
       "      <td>0.5162</td>\n",
       "      <td>14.272511</td>\n",
       "      <td>0.000067</td>\n",
       "      <td>2.0</td>\n",
       "      <td>596</td>\n",
       "      <td>NaN</td>\n",
       "      <td>NaN</td>\n",
       "      <td>NaN</td>\n",
       "      <td>NaN</td>\n",
       "      <td>NaN</td>\n",
       "      <td>NaN</td>\n",
       "      <td>NaN</td>\n",
       "      <td>NaN</td>\n",
       "      <td>NaN</td>\n",
       "      <td>NaN</td>\n",
       "    </tr>\n",
       "    <tr>\n",
       "      <th>3</th>\n",
       "      <td>NaN</td>\n",
       "      <td>NaN</td>\n",
       "      <td>NaN</td>\n",
       "      <td>2.0</td>\n",
       "      <td>596</td>\n",
       "      <td>0.738479</td>\n",
       "      <td>0.722689</td>\n",
       "      <td>23.0506</td>\n",
       "      <td>25.813</td>\n",
       "      <td>1.649</td>\n",
       "      <td>NaN</td>\n",
       "      <td>NaN</td>\n",
       "      <td>NaN</td>\n",
       "      <td>NaN</td>\n",
       "      <td>NaN</td>\n",
       "    </tr>\n",
       "    <tr>\n",
       "      <th>4</th>\n",
       "      <td>0.2677</td>\n",
       "      <td>9.717100</td>\n",
       "      <td>0.000050</td>\n",
       "      <td>3.0</td>\n",
       "      <td>894</td>\n",
       "      <td>NaN</td>\n",
       "      <td>NaN</td>\n",
       "      <td>NaN</td>\n",
       "      <td>NaN</td>\n",
       "      <td>NaN</td>\n",
       "      <td>NaN</td>\n",
       "      <td>NaN</td>\n",
       "      <td>NaN</td>\n",
       "      <td>NaN</td>\n",
       "      <td>NaN</td>\n",
       "    </tr>\n",
       "  </tbody>\n",
       "</table>\n",
       "</div>"
      ],
      "text/plain": [
       "     loss  grad_norm  learning_rate  epoch  step  eval_loss  eval_accuracy  \\\n",
       "0  0.9593  10.514441       0.000083    1.0   298        NaN            NaN   \n",
       "1     NaN        NaN            NaN    1.0   298   0.786374       0.672269   \n",
       "2  0.5162  14.272511       0.000067    2.0   596        NaN            NaN   \n",
       "3     NaN        NaN            NaN    2.0   596   0.738479       0.722689   \n",
       "4  0.2677   9.717100       0.000050    3.0   894        NaN            NaN   \n",
       "\n",
       "   eval_runtime  eval_samples_per_second  eval_steps_per_second  \\\n",
       "0           NaN                      NaN                    NaN   \n",
       "1       23.7007                   25.105                  1.603   \n",
       "2           NaN                      NaN                    NaN   \n",
       "3       23.0506                   25.813                  1.649   \n",
       "4           NaN                      NaN                    NaN   \n",
       "\n",
       "   train_runtime  train_samples_per_second  train_steps_per_second  \\\n",
       "0            NaN                       NaN                     NaN   \n",
       "1            NaN                       NaN                     NaN   \n",
       "2            NaN                       NaN                     NaN   \n",
       "3            NaN                       NaN                     NaN   \n",
       "4            NaN                       NaN                     NaN   \n",
       "\n",
       "   total_flos  train_loss  \n",
       "0         NaN         NaN  \n",
       "1         NaN         NaN  \n",
       "2         NaN         NaN  \n",
       "3         NaN         NaN  \n",
       "4         NaN         NaN  "
      ]
     },
     "execution_count": 18,
     "metadata": {},
     "output_type": "execute_result"
    }
   ],
   "source": [
    "log_history = trainer.state.log_history\n",
    "df = pd.DataFrame(log_history)\n",
    "df.head()"
   ]
  },
  {
   "cell_type": "code",
   "execution_count": null,
   "id": "7ef772ec-8720-4f13-903b-910cbfe2ec4a",
   "metadata": {
    "execution": {
     "iopub.execute_input": "2025-04-25T02:11:39.958699Z",
     "iopub.status.busy": "2025-04-25T02:11:39.958355Z",
     "iopub.status.idle": "2025-04-25T02:11:40.105545Z",
     "shell.execute_reply": "2025-04-25T02:11:40.105174Z"
    },
    "papermill": {
     "duration": 0.197143,
     "end_time": "2025-04-25T02:11:40.106320",
     "exception": false,
     "start_time": "2025-04-25T02:11:39.909177",
     "status": "completed"
    },
    "tags": []
   },
   "outputs": [],
   "source": [
    "train_loss = df[df['loss'].notna()][['epoch', 'loss']]\n",
    "test_loss = df[df['eval_loss'].notna()][['epoch', 'eval_loss']]\n",
    "test_acc = df[df['eval_accuracy'].notna()][['epoch', 'eval_accuracy']]"
   ]
  },
  {
   "cell_type": "code",
   "execution_count": 20,
   "id": "91dffc3f-a319-4fc9-8e59-4e6ade3334a1",
   "metadata": {
    "execution": {
     "iopub.execute_input": "2025-04-25T02:11:40.166321Z",
     "iopub.status.busy": "2025-04-25T02:11:40.166049Z",
     "iopub.status.idle": "2025-04-25T02:11:40.289343Z",
     "shell.execute_reply": "2025-04-25T02:11:40.288991Z"
    },
    "papermill": {
     "duration": 0.14139,
     "end_time": "2025-04-25T02:11:40.289980",
     "exception": false,
     "start_time": "2025-04-25T02:11:40.148590",
     "status": "completed"
    },
    "tags": []
   },
   "outputs": [
    {
     "name": "stdout",
     "output_type": "stream",
     "text": [
      "   epoch  eval_loss\n",
      "6    4.0        NaN\n",
      "7    4.0   1.127532\n"
     ]
    }
   ],
   "source": [
    "print(df[df['epoch'] == 4][['epoch', 'eval_loss']])"
   ]
  },
  {
   "cell_type": "code",
   "execution_count": null,
   "id": "a3686fed-efe5-4ac7-979d-1b5b4da79b72",
   "metadata": {
    "execution": {
     "iopub.execute_input": "2025-04-25T02:11:40.326930Z",
     "iopub.status.busy": "2025-04-25T02:11:40.326608Z",
     "iopub.status.idle": "2025-04-25T02:11:40.796362Z",
     "shell.execute_reply": "2025-04-25T02:11:40.796007Z"
    },
    "papermill": {
     "duration": 0.486307,
     "end_time": "2025-04-25T02:11:40.797267",
     "exception": false,
     "start_time": "2025-04-25T02:11:40.310960",
     "status": "completed"
    },
    "tags": []
   },
   "outputs": [
    {
     "data": {
      "image/png": "[encoded data removed]",
      "text/plain": [
       "<Figure size 1000x500 with 1 Axes>"
      ]
     },
     "metadata": {},
     "output_type": "display_data"
    }
   ],
   "source": [
    "test_loss_grouped = test_loss.groupby('epoch', as_index=False).mean()\n",
    "train_loss_grouped = train_loss.groupby('epoch', as_index=False).mean()\n",
    "\n",
    "# plot train and test losses\n",
    "plt.figure(figsize=(10, 5))\n",
    "plt.plot(test_loss_grouped['epoch'], train_loss_grouped['loss'], label='Train Loss', marker='o')\n",
    "plt.plot(test_loss_grouped['epoch'], test_loss_grouped['eval_loss'], label='Test Loss', marker='o')\n",
    "\n",
    "plt.xlabel(\"Epoch\")\n",
    "plt.ylabel(\"Loss\")\n",
    "plt.title(\"Training and Test Loss\")\n",
    "\n",
    "plt.legend()\n",
    "plt.grid(True)\n",
    "plt.show()"
   ]
  },
  {
   "cell_type": "code",
   "execution_count": null,
   "id": "3d5dff8d-9188-4949-ac19-71f4a28d38fb",
   "metadata": {
    "execution": {
     "iopub.execute_input": "2025-04-25T02:11:40.831278Z",
     "iopub.status.busy": "2025-04-25T02:11:40.830960Z",
     "iopub.status.idle": "2025-04-25T02:11:40.934572Z",
     "shell.execute_reply": "2025-04-25T02:11:40.934231Z"
    },
    "papermill": {
     "duration": 0.12103,
     "end_time": "2025-04-25T02:11:40.935226",
     "exception": false,
     "start_time": "2025-04-25T02:11:40.814196",
     "status": "completed"
    },
    "tags": []
   },
   "outputs": [
    {
     "data": {
      "image/png": "[encoded data removed]",
      "text/plain": [
       "<Figure size 800x500 with 1 Axes>"
      ]
     },
     "metadata": {},
     "output_type": "display_data"
    }
   ],
   "source": [
    "test_acc_grouped = test_acc.groupby('epoch', as_index=False).mean()\n",
    "\n",
    "# test accuracy plot\n",
    "plt.figure(figsize=(8, 5))\n",
    "plt.plot(test_acc_grouped['epoch'], test_acc_grouped['eval_accuracy'], label='Test Accuracy', marker='o', color='green')\n",
    "\n",
    "plt.xlabel(\"Epoch\")\n",
    "plt.ylabel(\"Accuracy\")\n",
    "plt.title(\"Test Accuracy\")\n",
    "\n",
    "plt.legend()\n",
    "plt.grid(True)\n",
    "plt.show()"
   ]
  },
  {
   "cell_type": "code",
   "execution_count": null,
   "id": "db724047-2d12-4ad4-b021-5c1135ae6501",
   "metadata": {
    "execution": {
     "iopub.execute_input": "2025-04-25T02:11:40.968477Z",
     "iopub.status.busy": "2025-04-25T02:11:40.968120Z",
     "iopub.status.idle": "2025-04-25T02:11:41.311776Z",
     "shell.execute_reply": "2025-04-25T02:11:41.311419Z"
    },
    "papermill": {
     "duration": 0.359865,
     "end_time": "2025-04-25T02:11:41.312466",
     "exception": false,
     "start_time": "2025-04-25T02:11:40.952601",
     "status": "completed"
    },
    "tags": []
   },
   "outputs": [
    {
     "data": {
      "image/png": "[encoded data removed]",
      "text/plain": [
       "<Figure size 640x480 with 2 Axes>"
      ]
     },
     "metadata": {},
     "output_type": "display_data"
    }
   ],
   "source": [
    "# confusion matrix for test classification vs actual\n",
    "cm = confusion_matrix(true_labels, pred_labels)\n",
    "disp = ConfusionMatrixDisplay(confusion_matrix=cm, display_labels=label_encoder.classes_)\n",
    "disp.plot(xticks_rotation=45, cmap='Blues')\n",
    "plt.title(\"Confusion Matrix\")\n",
    "plt.tight_layout()\n",
    "plt.show()"
   ]
  }
 ],
 "metadata": {
  "kernelspec": {
   "display_name": "mynlp",
   "language": "python",
   "name": "mynlp"
  },
  "language_info": {
   "codemirror_mode": {
    "name": "ipython",
    "version": 3
   },
   "file_extension": ".py",
   "mimetype": "text/x-python",
   "name": "python",
   "nbconvert_exporter": "python",
   "pygments_lexer": "ipython3",
   "version": "3.11.11"
  },
  "papermill": {
   "default_parameters": {},
   "duration": 4626.962886,
   "end_time": "2025-04-25T02:11:44.667211",
   "environment_variables": {},
   "exception": null,
   "input_path": "model_experimentation.ipynb",
   "output_path": "output_notebook.ipynb",
   "parameters": {},
   "start_time": "2025-04-25T00:54:37.704325",
   "version": "2.6.0"
  },
  "widgets": {
   "application/vnd.jupyter.widget-state+json": {
    "state": {
     "0c749d9ba0d54f9389cf1113d68aee26": {
      "model_module": "@jupyter-widgets/base",
      "model_module_version": "2.0.0",
      "model_name": "LayoutModel",
      "state": {
       "_model_module": "@jupyter-widgets/base",
       "_model_module_version": "2.0.0",
       "_model_name": "LayoutModel",
       "_view_count": null,
       "_view_module": "@jupyter-widgets/base",
       "_view_module_version": "2.0.0",
       "_view_name": "LayoutView",
       "align_content": null,
       "align_items": null,
       "align_self": null,
       "border_bottom": null,
       "border_left": null,
       "border_right": null,
       "border_top": null,
       "bottom": null,
       "display": null,
       "flex": null,
       "flex_flow": null,
       "grid_area": null,
       "grid_auto_columns": null,
       "grid_auto_flow": null,
       "grid_auto_rows": null,
       "grid_column": null,
       "grid_gap": null,
       "grid_row": null,
       "grid_template_areas": null,
       "grid_template_columns": null,
       "grid_template_rows": null,
       "height": null,
       "justify_content": null,
       "justify_items": null,
       "left": null,
       "margin": null,
       "max_height": null,
       "max_width": null,
       "min_height": null,
       "min_width": null,
       "object_fit": null,
       "object_position": null,
       "order": null,
       "overflow": null,
       "padding": null,
       "right": null,
       "top": null,
       "visibility": null,
       "width": null
      }
     },
     "10635155541a402ebf585f314368bf72": {
      "model_module": "@jupyter-widgets/controls",
      "model_module_version": "2.0.0",
      "model_name": "HTMLStyleModel",
      "state": {
       "_model_module": "@jupyter-widgets/controls",
       "_model_module_version": "2.0.0",
       "_model_name": "HTMLStyleModel",
       "_view_count": null,
       "_view_module": "@jupyter-widgets/base",
       "_view_module_version": "2.0.0",
       "_view_name": "StyleView",
       "background": null,
       "description_width": "",
       "font_size": null,
       "text_color": null
      }
     },
     "11f14e004ffe47008f3efafb4d130b5a": {
      "model_module": "@jupyter-widgets/controls",
      "model_module_version": "2.0.0",
      "model_name": "HTMLModel",
      "state": {
       "_dom_classes": [],
       "_model_module": "@jupyter-widgets/controls",
       "_model_module_version": "2.0.0",
       "_model_name": "HTMLModel",
       "_view_count": null,
       "_view_module": "@jupyter-widgets/controls",
       "_view_module_version": "2.0.0",
       "_view_name": "HTMLView",
       "description": "",
       "description_allow_html": false,
       "layout": "IPY_MODEL_139b1416e51a4b0fa2cd08a6bb0c6b0c",
       "placeholder": "​",
       "style": "IPY_MODEL_43b2238d57904b939e6df2121db1ba40",
       "tabbable": null,
       "tooltip": null,
       "value": " 595/595 [00:00&lt;00:00, 9949.45 examples/s]"
      }
     },
     "139b1416e51a4b0fa2cd08a6bb0c6b0c": {
      "model_module": "@jupyter-widgets/base",
      "model_module_version": "2.0.0",
      "model_name": "LayoutModel",
      "state": {
       "_model_module": "@jupyter-widgets/base",
       "_model_module_version": "2.0.0",
       "_model_name": "LayoutModel",
       "_view_count": null,
       "_view_module": "@jupyter-widgets/base",
       "_view_module_version": "2.0.0",
       "_view_name": "LayoutView",
       "align_content": null,
       "align_items": null,
       "align_self": null,
       "border_bottom": null,
       "border_left": null,
       "border_right": null,
       "border_top": null,
       "bottom": null,
       "display": null,
       "flex": null,
       "flex_flow": null,
       "grid_area": null,
       "grid_auto_columns": null,
       "grid_auto_flow": null,
       "grid_auto_rows": null,
       "grid_column": null,
       "grid_gap": null,
       "grid_row": null,
       "grid_template_areas": null,
       "grid_template_columns": null,
       "grid_template_rows": null,
       "height": null,
       "justify_content": null,
       "justify_items": null,
       "left": null,
       "margin": null,
       "max_height": null,
       "max_width": null,
       "min_height": null,
       "min_width": null,
       "object_fit": null,
       "object_position": null,
       "order": null,
       "overflow": null,
       "padding": null,
       "right": null,
       "top": null,
       "visibility": null,
       "width": null
      }
     },
     "216b4fcd8f4a4af18a657a166e234be0": {
      "model_module": "@jupyter-widgets/base",
      "model_module_version": "2.0.0",
      "model_name": "LayoutModel",
      "state": {
       "_model_module": "@jupyter-widgets/base",
       "_model_module_version": "2.0.0",
       "_model_name": "LayoutModel",
       "_view_count": null,
       "_view_module": "@jupyter-widgets/base",
       "_view_module_version": "2.0.0",
       "_view_name": "LayoutView",
       "align_content": null,
       "align_items": null,
       "align_self": null,
       "border_bottom": null,
       "border_left": null,
       "border_right": null,
       "border_top": null,
       "bottom": null,
       "display": null,
       "flex": null,
       "flex_flow": null,
       "grid_area": null,
       "grid_auto_columns": null,
       "grid_auto_flow": null,
       "grid_auto_rows": null,
       "grid_column": null,
       "grid_gap": null,
       "grid_row": null,
       "grid_template_areas": null,
       "grid_template_columns": null,
       "grid_template_rows": null,
       "height": null,
       "justify_content": null,
       "justify_items": null,
       "left": null,
       "margin": null,
       "max_height": null,
       "max_width": null,
       "min_height": null,
       "min_width": null,
       "object_fit": null,
       "object_position": null,
       "order": null,
       "overflow": null,
       "padding": null,
       "right": null,
       "top": null,
       "visibility": null,
       "width": null
      }
     },
     "26c26dea772c4cc38d92e5013b286c64": {
      "model_module": "@jupyter-widgets/controls",
      "model_module_version": "2.0.0",
      "model_name": "HBoxModel",
      "state": {
       "_dom_classes": [],
       "_model_module": "@jupyter-widgets/controls",
       "_model_module_version": "2.0.0",
       "_model_name": "HBoxModel",
       "_view_count": null,
       "_view_module": "@jupyter-widgets/controls",
       "_view_module_version": "2.0.0",
       "_view_name": "HBoxView",
       "box_style": "",
       "children": [
        "IPY_MODEL_9f7a98b2724d409fabc67a6e3d208ed9",
        "IPY_MODEL_d5611a7485f946978b35d8bf87311984",
        "IPY_MODEL_11f14e004ffe47008f3efafb4d130b5a"
       ],
       "layout": "IPY_MODEL_c0f73f2a4ef04d8f864b5fa0be7d6752",
       "tabbable": null,
       "tooltip": null
      }
     },
     "2dc1a7c38c4d49d9a57866a1e5f7545a": {
      "model_module": "@jupyter-widgets/controls",
      "model_module_version": "2.0.0",
      "model_name": "HTMLStyleModel",
      "state": {
       "_model_module": "@jupyter-widgets/controls",
       "_model_module_version": "2.0.0",
       "_model_name": "HTMLStyleModel",
       "_view_count": null,
       "_view_module": "@jupyter-widgets/base",
       "_view_module_version": "2.0.0",
       "_view_name": "StyleView",
       "background": null,
       "description_width": "",
       "font_size": null,
       "text_color": null
      }
     },
     "31313f84c46b4c2f847d0ce45d307f0b": {
      "model_module": "@jupyter-widgets/base",
      "model_module_version": "2.0.0",
      "model_name": "LayoutModel",
      "state": {
       "_model_module": "@jupyter-widgets/base",
       "_model_module_version": "2.0.0",
       "_model_name": "LayoutModel",
       "_view_count": null,
       "_view_module": "@jupyter-widgets/base",
       "_view_module_version": "2.0.0",
       "_view_name": "LayoutView",
       "align_content": null,
       "align_items": null,
       "align_self": null,
       "border_bottom": null,
       "border_left": null,
       "border_right": null,
       "border_top": null,
       "bottom": null,
       "display": null,
       "flex": null,
       "flex_flow": null,
       "grid_area": null,
       "grid_auto_columns": null,
       "grid_auto_flow": null,
       "grid_auto_rows": null,
       "grid_column": null,
       "grid_gap": null,
       "grid_row": null,
       "grid_template_areas": null,
       "grid_template_columns": null,
       "grid_template_rows": null,
       "height": null,
       "justify_content": null,
       "justify_items": null,
       "left": null,
       "margin": null,
       "max_height": null,
       "max_width": null,
       "min_height": null,
       "min_width": null,
       "object_fit": null,
       "object_position": null,
       "order": null,
       "overflow": null,
       "padding": null,
       "right": null,
       "top": null,
       "visibility": null,
       "width": null
      }
     },
     "3621bf9756e0486b90a3945dbb3728ac": {
      "model_module": "@jupyter-widgets/controls",
      "model_module_version": "2.0.0",
      "model_name": "HTMLStyleModel",
      "state": {
       "_model_module": "@jupyter-widgets/controls",
       "_model_module_version": "2.0.0",
       "_model_name": "HTMLStyleModel",
       "_view_count": null,
       "_view_module": "@jupyter-widgets/base",
       "_view_module_version": "2.0.0",
       "_view_name": "StyleView",
       "background": null,
       "description_width": "",
       "font_size": null,
       "text_color": null
      }
     },
     "4059ef92b69b418798cdf3688a1c925f": {
      "model_module": "@jupyter-widgets/controls",
      "model_module_version": "2.0.0",
      "model_name": "FloatProgressModel",
      "state": {
       "_dom_classes": [],
       "_model_module": "@jupyter-widgets/controls",
       "_model_module_version": "2.0.0",
       "_model_name": "FloatProgressModel",
       "_view_count": null,
       "_view_module": "@jupyter-widgets/controls",
       "_view_module_version": "2.0.0",
       "_view_name": "ProgressView",
       "bar_style": "success",
       "description": "",
       "description_allow_html": false,
       "layout": "IPY_MODEL_31313f84c46b4c2f847d0ce45d307f0b",
       "max": 4759,
       "min": 0,
       "orientation": "horizontal",
       "style": "IPY_MODEL_766683e9bb904c45ab915679ddf2fd99",
       "tabbable": null,
       "tooltip": null,
       "value": 4759
      }
     },
     "43b2238d57904b939e6df2121db1ba40": {
      "model_module": "@jupyter-widgets/controls",
      "model_module_version": "2.0.0",
      "model_name": "HTMLStyleModel",
      "state": {
       "_model_module": "@jupyter-widgets/controls",
       "_model_module_version": "2.0.0",
       "_model_name": "HTMLStyleModel",
       "_view_count": null,
       "_view_module": "@jupyter-widgets/base",
       "_view_module_version": "2.0.0",
       "_view_name": "StyleView",
       "background": null,
       "description_width": "",
       "font_size": null,
       "text_color": null
      }
     },
     "465d7ceabf374cfd926b2cfe871f7eaf": {
      "model_module": "@jupyter-widgets/base",
      "model_module_version": "2.0.0",
      "model_name": "LayoutModel",
      "state": {
       "_model_module": "@jupyter-widgets/base",
       "_model_module_version": "2.0.0",
       "_model_name": "LayoutModel",
       "_view_count": null,
       "_view_module": "@jupyter-widgets/base",
       "_view_module_version": "2.0.0",
       "_view_name": "LayoutView",
       "align_content": null,
       "align_items": null,
       "align_self": null,
       "border_bottom": null,
       "border_left": null,
       "border_right": null,
       "border_top": null,
       "bottom": null,
       "display": null,
       "flex": null,
       "flex_flow": null,
       "grid_area": null,
       "grid_auto_columns": null,
       "grid_auto_flow": null,
       "grid_auto_rows": null,
       "grid_column": null,
       "grid_gap": null,
       "grid_row": null,
       "grid_template_areas": null,
       "grid_template_columns": null,
       "grid_template_rows": null,
       "height": null,
       "justify_content": null,
       "justify_items": null,
       "left": null,
       "margin": null,
       "max_height": null,
       "max_width": null,
       "min_height": null,
       "min_width": null,
       "object_fit": null,
       "object_position": null,
       "order": null,
       "overflow": null,
       "padding": null,
       "right": null,
       "top": null,
       "visibility": null,
       "width": null
      }
     },
     "4a71175875634092b8a6d070a6ce8163": {
      "model_module": "@jupyter-widgets/controls",
      "model_module_version": "2.0.0",
      "model_name": "HBoxModel",
      "state": {
       "_dom_classes": [],
       "_model_module": "@jupyter-widgets/controls",
       "_model_module_version": "2.0.0",
       "_model_name": "HBoxModel",
       "_view_count": null,
       "_view_module": "@jupyter-widgets/controls",
       "_view_module_version": "2.0.0",
       "_view_name": "HBoxView",
       "box_style": "",
       "children": [
        "IPY_MODEL_c4a822a6023d423f89c9d598148e6d4a",
        "IPY_MODEL_4059ef92b69b418798cdf3688a1c925f",
        "IPY_MODEL_8bf1fa72b15e417aae8493ef3040eb8d"
       ],
       "layout": "IPY_MODEL_cd6ee4d5b6ef4e7e8f9da7ba2a84e5be",
       "tabbable": null,
       "tooltip": null
      }
     },
     "55f2ecb3566f4e22b4f3eefc4bfe1521": {
      "model_module": "@jupyter-widgets/controls",
      "model_module_version": "2.0.0",
      "model_name": "HTMLModel",
      "state": {
       "_dom_classes": [],
       "_model_module": "@jupyter-widgets/controls",
       "_model_module_version": "2.0.0",
       "_model_name": "HTMLModel",
       "_view_count": null,
       "_view_module": "@jupyter-widgets/controls",
       "_view_module_version": "2.0.0",
       "_view_name": "HTMLView",
       "description": "",
       "description_allow_html": false,
       "layout": "IPY_MODEL_b7175ca83414451bacac0b13950c7d72",
       "placeholder": "​",
       "style": "IPY_MODEL_3621bf9756e0486b90a3945dbb3728ac",
       "tabbable": null,
       "tooltip": null,
       "value": "Map: 100%"
      }
     },
     "58af7b73f46045c19a165bb0af16bd49": {
      "model_module": "@jupyter-widgets/base",
      "model_module_version": "2.0.0",
      "model_name": "LayoutModel",
      "state": {
       "_model_module": "@jupyter-widgets/base",
       "_model_module_version": "2.0.0",
       "_model_name": "LayoutModel",
       "_view_count": null,
       "_view_module": "@jupyter-widgets/base",
       "_view_module_version": "2.0.0",
       "_view_name": "LayoutView",
       "align_content": null,
       "align_items": null,
       "align_self": null,
       "border_bottom": null,
       "border_left": null,
       "border_right": null,
       "border_top": null,
       "bottom": null,
       "display": null,
       "flex": null,
       "flex_flow": null,
       "grid_area": null,
       "grid_auto_columns": null,
       "grid_auto_flow": null,
       "grid_auto_rows": null,
       "grid_column": null,
       "grid_gap": null,
       "grid_row": null,
       "grid_template_areas": null,
       "grid_template_columns": null,
       "grid_template_rows": null,
       "height": null,
       "justify_content": null,
       "justify_items": null,
       "left": null,
       "margin": null,
       "max_height": null,
       "max_width": null,
       "min_height": null,
       "min_width": null,
       "object_fit": null,
       "object_position": null,
       "order": null,
       "overflow": null,
       "padding": null,
       "right": null,
       "top": null,
       "visibility": null,
       "width": null
      }
     },
     "68059d096ce043688c595a59475dd215": {
      "model_module": "@jupyter-widgets/base",
      "model_module_version": "2.0.0",
      "model_name": "LayoutModel",
      "state": {
       "_model_module": "@jupyter-widgets/base",
       "_model_module_version": "2.0.0",
       "_model_name": "LayoutModel",
       "_view_count": null,
       "_view_module": "@jupyter-widgets/base",
       "_view_module_version": "2.0.0",
       "_view_name": "LayoutView",
       "align_content": null,
       "align_items": null,
       "align_self": null,
       "border_bottom": null,
       "border_left": null,
       "border_right": null,
       "border_top": null,
       "bottom": null,
       "display": null,
       "flex": null,
       "flex_flow": null,
       "grid_area": null,
       "grid_auto_columns": null,
       "grid_auto_flow": null,
       "grid_auto_rows": null,
       "grid_column": null,
       "grid_gap": null,
       "grid_row": null,
       "grid_template_areas": null,
       "grid_template_columns": null,
       "grid_template_rows": null,
       "height": null,
       "justify_content": null,
       "justify_items": null,
       "left": null,
       "margin": null,
       "max_height": null,
       "max_width": null,
       "min_height": null,
       "min_width": null,
       "object_fit": null,
       "object_position": null,
       "order": null,
       "overflow": null,
       "padding": null,
       "right": null,
       "top": null,
       "visibility": null,
       "width": null
      }
     },
     "766683e9bb904c45ab915679ddf2fd99": {
      "model_module": "@jupyter-widgets/controls",
      "model_module_version": "2.0.0",
      "model_name": "ProgressStyleModel",
      "state": {
       "_model_module": "@jupyter-widgets/controls",
       "_model_module_version": "2.0.0",
       "_model_name": "ProgressStyleModel",
       "_view_count": null,
       "_view_module": "@jupyter-widgets/base",
       "_view_module_version": "2.0.0",
       "_view_name": "StyleView",
       "bar_color": null,
       "description_width": ""
      }
     },
     "7b8c0a1936e84752a077d4dfa1fa82fc": {
      "model_module": "@jupyter-widgets/controls",
      "model_module_version": "2.0.0",
      "model_name": "HTMLStyleModel",
      "state": {
       "_model_module": "@jupyter-widgets/controls",
       "_model_module_version": "2.0.0",
       "_model_name": "HTMLStyleModel",
       "_view_count": null,
       "_view_module": "@jupyter-widgets/base",
       "_view_module_version": "2.0.0",
       "_view_name": "StyleView",
       "background": null,
       "description_width": "",
       "font_size": null,
       "text_color": null
      }
     },
     "8bf1fa72b15e417aae8493ef3040eb8d": {
      "model_module": "@jupyter-widgets/controls",
      "model_module_version": "2.0.0",
      "model_name": "HTMLModel",
      "state": {
       "_dom_classes": [],
       "_model_module": "@jupyter-widgets/controls",
       "_model_module_version": "2.0.0",
       "_model_name": "HTMLModel",
       "_view_count": null,
       "_view_module": "@jupyter-widgets/controls",
       "_view_module_version": "2.0.0",
       "_view_name": "HTMLView",
       "description": "",
       "description_allow_html": false,
       "layout": "IPY_MODEL_0c749d9ba0d54f9389cf1113d68aee26",
       "placeholder": "​",
       "style": "IPY_MODEL_97cb4b6f351f48d8ae48deb12d5d41c4",
       "tabbable": null,
       "tooltip": null,
       "value": " 4759/4759 [00:00&lt;00:00, 9262.19 examples/s]"
      }
     },
     "8ccc95513888419c989d9f62383a4c2d": {
      "model_module": "@jupyter-widgets/controls",
      "model_module_version": "2.0.0",
      "model_name": "FloatProgressModel",
      "state": {
       "_dom_classes": [],
       "_model_module": "@jupyter-widgets/controls",
       "_model_module_version": "2.0.0",
       "_model_name": "FloatProgressModel",
       "_view_count": null,
       "_view_module": "@jupyter-widgets/controls",
       "_view_module_version": "2.0.0",
       "_view_name": "ProgressView",
       "bar_style": "success",
       "description": "",
       "description_allow_html": false,
       "layout": "IPY_MODEL_8e180e2d3649466da04460129c7644de",
       "max": 595,
       "min": 0,
       "orientation": "horizontal",
       "style": "IPY_MODEL_a3cb29ee4ad94fe7a450b65e80f321d0",
       "tabbable": null,
       "tooltip": null,
       "value": 595
      }
     },
     "8e180e2d3649466da04460129c7644de": {
      "model_module": "@jupyter-widgets/base",
      "model_module_version": "2.0.0",
      "model_name": "LayoutModel",
      "state": {
       "_model_module": "@jupyter-widgets/base",
       "_model_module_version": "2.0.0",
       "_model_name": "LayoutModel",
       "_view_count": null,
       "_view_module": "@jupyter-widgets/base",
       "_view_module_version": "2.0.0",
       "_view_name": "LayoutView",
       "align_content": null,
       "align_items": null,
       "align_self": null,
       "border_bottom": null,
       "border_left": null,
       "border_right": null,
       "border_top": null,
       "bottom": null,
       "display": null,
       "flex": null,
       "flex_flow": null,
       "grid_area": null,
       "grid_auto_columns": null,
       "grid_auto_flow": null,
       "grid_auto_rows": null,
       "grid_column": null,
       "grid_gap": null,
       "grid_row": null,
       "grid_template_areas": null,
       "grid_template_columns": null,
       "grid_template_rows": null,
       "height": null,
       "justify_content": null,
       "justify_items": null,
       "left": null,
       "margin": null,
       "max_height": null,
       "max_width": null,
       "min_height": null,
       "min_width": null,
       "object_fit": null,
       "object_position": null,
       "order": null,
       "overflow": null,
       "padding": null,
       "right": null,
       "top": null,
       "visibility": null,
       "width": null
      }
     },
     "97cb4b6f351f48d8ae48deb12d5d41c4": {
      "model_module": "@jupyter-widgets/controls",
      "model_module_version": "2.0.0",
      "model_name": "HTMLStyleModel",
      "state": {
       "_model_module": "@jupyter-widgets/controls",
       "_model_module_version": "2.0.0",
       "_model_name": "HTMLStyleModel",
       "_view_count": null,
       "_view_module": "@jupyter-widgets/base",
       "_view_module_version": "2.0.0",
       "_view_name": "StyleView",
       "background": null,
       "description_width": "",
       "font_size": null,
       "text_color": null
      }
     },
     "98fb23b50c9e434d9cf34298726bea0c": {
      "model_module": "@jupyter-widgets/controls",
      "model_module_version": "2.0.0",
      "model_name": "ProgressStyleModel",
      "state": {
       "_model_module": "@jupyter-widgets/controls",
       "_model_module_version": "2.0.0",
       "_model_name": "ProgressStyleModel",
       "_view_count": null,
       "_view_module": "@jupyter-widgets/base",
       "_view_module_version": "2.0.0",
       "_view_name": "StyleView",
       "bar_color": null,
       "description_width": ""
      }
     },
     "9a4b187a8e5841cfbdf76bbe93b0315d": {
      "model_module": "@jupyter-widgets/controls",
      "model_module_version": "2.0.0",
      "model_name": "HBoxModel",
      "state": {
       "_dom_classes": [],
       "_model_module": "@jupyter-widgets/controls",
       "_model_module_version": "2.0.0",
       "_model_name": "HBoxModel",
       "_view_count": null,
       "_view_module": "@jupyter-widgets/controls",
       "_view_module_version": "2.0.0",
       "_view_name": "HBoxView",
       "box_style": "",
       "children": [
        "IPY_MODEL_55f2ecb3566f4e22b4f3eefc4bfe1521",
        "IPY_MODEL_8ccc95513888419c989d9f62383a4c2d",
        "IPY_MODEL_a7a84b9bda034bfe8a6f64af23b43bd1"
       ],
       "layout": "IPY_MODEL_58af7b73f46045c19a165bb0af16bd49",
       "tabbable": null,
       "tooltip": null
      }
     },
     "9f7a98b2724d409fabc67a6e3d208ed9": {
      "model_module": "@jupyter-widgets/controls",
      "model_module_version": "2.0.0",
      "model_name": "HTMLModel",
      "state": {
       "_dom_classes": [],
       "_model_module": "@jupyter-widgets/controls",
       "_model_module_version": "2.0.0",
       "_model_name": "HTMLModel",
       "_view_count": null,
       "_view_module": "@jupyter-widgets/controls",
       "_view_module_version": "2.0.0",
       "_view_name": "HTMLView",
       "description": "",
       "description_allow_html": false,
       "layout": "IPY_MODEL_68059d096ce043688c595a59475dd215",
       "placeholder": "​",
       "style": "IPY_MODEL_2dc1a7c38c4d49d9a57866a1e5f7545a",
       "tabbable": null,
       "tooltip": null,
       "value": "Map: 100%"
      }
     },
     "a3cb29ee4ad94fe7a450b65e80f321d0": {
      "model_module": "@jupyter-widgets/controls",
      "model_module_version": "2.0.0",
      "model_name": "ProgressStyleModel",
      "state": {
       "_model_module": "@jupyter-widgets/controls",
       "_model_module_version": "2.0.0",
       "_model_name": "ProgressStyleModel",
       "_view_count": null,
       "_view_module": "@jupyter-widgets/base",
       "_view_module_version": "2.0.0",
       "_view_name": "StyleView",
       "bar_color": null,
       "description_width": ""
      }
     },
     "a7a84b9bda034bfe8a6f64af23b43bd1": {
      "model_module": "@jupyter-widgets/controls",
      "model_module_version": "2.0.0",
      "model_name": "HTMLModel",
      "state": {
       "_dom_classes": [],
       "_model_module": "@jupyter-widgets/controls",
       "_model_module_version": "2.0.0",
       "_model_name": "HTMLModel",
       "_view_count": null,
       "_view_module": "@jupyter-widgets/controls",
       "_view_module_version": "2.0.0",
       "_view_name": "HTMLView",
       "description": "",
       "description_allow_html": false,
       "layout": "IPY_MODEL_bd82dfc8c8d34793b3d95d9af5c6af51",
       "placeholder": "​",
       "style": "IPY_MODEL_7b8c0a1936e84752a077d4dfa1fa82fc",
       "tabbable": null,
       "tooltip": null,
       "value": " 595/595 [00:00&lt;00:00, 2137.28 examples/s]"
      }
     },
     "b7175ca83414451bacac0b13950c7d72": {
      "model_module": "@jupyter-widgets/base",
      "model_module_version": "2.0.0",
      "model_name": "LayoutModel",
      "state": {
       "_model_module": "@jupyter-widgets/base",
       "_model_module_version": "2.0.0",
       "_model_name": "LayoutModel",
       "_view_count": null,
       "_view_module": "@jupyter-widgets/base",
       "_view_module_version": "2.0.0",
       "_view_name": "LayoutView",
       "align_content": null,
       "align_items": null,
       "align_self": null,
       "border_bottom": null,
       "border_left": null,
       "border_right": null,
       "border_top": null,
       "bottom": null,
       "display": null,
       "flex": null,
       "flex_flow": null,
       "grid_area": null,
       "grid_auto_columns": null,
       "grid_auto_flow": null,
       "grid_auto_rows": null,
       "grid_column": null,
       "grid_gap": null,
       "grid_row": null,
       "grid_template_areas": null,
       "grid_template_columns": null,
       "grid_template_rows": null,
       "height": null,
       "justify_content": null,
       "justify_items": null,
       "left": null,
       "margin": null,
       "max_height": null,
       "max_width": null,
       "min_height": null,
       "min_width": null,
       "object_fit": null,
       "object_position": null,
       "order": null,
       "overflow": null,
       "padding": null,
       "right": null,
       "top": null,
       "visibility": null,
       "width": null
      }
     },
     "bd82dfc8c8d34793b3d95d9af5c6af51": {
      "model_module": "@jupyter-widgets/base",
      "model_module_version": "2.0.0",
      "model_name": "LayoutModel",
      "state": {
       "_model_module": "@jupyter-widgets/base",
       "_model_module_version": "2.0.0",
       "_model_name": "LayoutModel",
       "_view_count": null,
       "_view_module": "@jupyter-widgets/base",
       "_view_module_version": "2.0.0",
       "_view_name": "LayoutView",
       "align_content": null,
       "align_items": null,
       "align_self": null,
       "border_bottom": null,
       "border_left": null,
       "border_right": null,
       "border_top": null,
       "bottom": null,
       "display": null,
       "flex": null,
       "flex_flow": null,
       "grid_area": null,
       "grid_auto_columns": null,
       "grid_auto_flow": null,
       "grid_auto_rows": null,
       "grid_column": null,
       "grid_gap": null,
       "grid_row": null,
       "grid_template_areas": null,
       "grid_template_columns": null,
       "grid_template_rows": null,
       "height": null,
       "justify_content": null,
       "justify_items": null,
       "left": null,
       "margin": null,
       "max_height": null,
       "max_width": null,
       "min_height": null,
       "min_width": null,
       "object_fit": null,
       "object_position": null,
       "order": null,
       "overflow": null,
       "padding": null,
       "right": null,
       "top": null,
       "visibility": null,
       "width": null
      }
     },
     "c0f73f2a4ef04d8f864b5fa0be7d6752": {
      "model_module": "@jupyter-widgets/base",
      "model_module_version": "2.0.0",
      "model_name": "LayoutModel",
      "state": {
       "_model_module": "@jupyter-widgets/base",
       "_model_module_version": "2.0.0",
       "_model_name": "LayoutModel",
       "_view_count": null,
       "_view_module": "@jupyter-widgets/base",
       "_view_module_version": "2.0.0",
       "_view_name": "LayoutView",
       "align_content": null,
       "align_items": null,
       "align_self": null,
       "border_bottom": null,
       "border_left": null,
       "border_right": null,
       "border_top": null,
       "bottom": null,
       "display": null,
       "flex": null,
       "flex_flow": null,
       "grid_area": null,
       "grid_auto_columns": null,
       "grid_auto_flow": null,
       "grid_auto_rows": null,
       "grid_column": null,
       "grid_gap": null,
       "grid_row": null,
       "grid_template_areas": null,
       "grid_template_columns": null,
       "grid_template_rows": null,
       "height": null,
       "justify_content": null,
       "justify_items": null,
       "left": null,
       "margin": null,
       "max_height": null,
       "max_width": null,
       "min_height": null,
       "min_width": null,
       "object_fit": null,
       "object_position": null,
       "order": null,
       "overflow": null,
       "padding": null,
       "right": null,
       "top": null,
       "visibility": null,
       "width": null
      }
     },
     "c4a822a6023d423f89c9d598148e6d4a": {
      "model_module": "@jupyter-widgets/controls",
      "model_module_version": "2.0.0",
      "model_name": "HTMLModel",
      "state": {
       "_dom_classes": [],
       "_model_module": "@jupyter-widgets/controls",
       "_model_module_version": "2.0.0",
       "_model_name": "HTMLModel",
       "_view_count": null,
       "_view_module": "@jupyter-widgets/controls",
       "_view_module_version": "2.0.0",
       "_view_name": "HTMLView",
       "description": "",
       "description_allow_html": false,
       "layout": "IPY_MODEL_465d7ceabf374cfd926b2cfe871f7eaf",
       "placeholder": "​",
       "style": "IPY_MODEL_10635155541a402ebf585f314368bf72",
       "tabbable": null,
       "tooltip": null,
       "value": "Map: 100%"
      }
     },
     "cd6ee4d5b6ef4e7e8f9da7ba2a84e5be": {
      "model_module": "@jupyter-widgets/base",
      "model_module_version": "2.0.0",
      "model_name": "LayoutModel",
      "state": {
       "_model_module": "@jupyter-widgets/base",
       "_model_module_version": "2.0.0",
       "_model_name": "LayoutModel",
       "_view_count": null,
       "_view_module": "@jupyter-widgets/base",
       "_view_module_version": "2.0.0",
       "_view_name": "LayoutView",
       "align_content": null,
       "align_items": null,
       "align_self": null,
       "border_bottom": null,
       "border_left": null,
       "border_right": null,
       "border_top": null,
       "bottom": null,
       "display": null,
       "flex": null,
       "flex_flow": null,
       "grid_area": null,
       "grid_auto_columns": null,
       "grid_auto_flow": null,
       "grid_auto_rows": null,
       "grid_column": null,
       "grid_gap": null,
       "grid_row": null,
       "grid_template_areas": null,
       "grid_template_columns": null,
       "grid_template_rows": null,
       "height": null,
       "justify_content": null,
       "justify_items": null,
       "left": null,
       "margin": null,
       "max_height": null,
       "max_width": null,
       "min_height": null,
       "min_width": null,
       "object_fit": null,
       "object_position": null,
       "order": null,
       "overflow": null,
       "padding": null,
       "right": null,
       "top": null,
       "visibility": null,
       "width": null
      }
     },
     "d5611a7485f946978b35d8bf87311984": {
      "model_module": "@jupyter-widgets/controls",
      "model_module_version": "2.0.0",
      "model_name": "FloatProgressModel",
      "state": {
       "_dom_classes": [],
       "_model_module": "@jupyter-widgets/controls",
       "_model_module_version": "2.0.0",
       "_model_name": "FloatProgressModel",
       "_view_count": null,
       "_view_module": "@jupyter-widgets/controls",
       "_view_module_version": "2.0.0",
       "_view_name": "ProgressView",
       "bar_style": "success",
       "description": "",
       "description_allow_html": false,
       "layout": "IPY_MODEL_216b4fcd8f4a4af18a657a166e234be0",
       "max": 595,
       "min": 0,
       "orientation": "horizontal",
       "style": "IPY_MODEL_98fb23b50c9e434d9cf34298726bea0c",
       "tabbable": null,
       "tooltip": null,
       "value": 595
      }
     }
    },
    "version_major": 2,
    "version_minor": 0
   }
  }
 },
 "nbformat": 4,
 "nbformat_minor": 5
}
